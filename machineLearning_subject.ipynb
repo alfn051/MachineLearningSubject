{
  "nbformat": 4,
  "nbformat_minor": 0,
  "metadata": {
    "colab": {
      "provenance": [],
      "gpuType": "T4",
      "authorship_tag": "ABX9TyMYpoLmt09LLFZuCYZjdT5A",
      "include_colab_link": true
    },
    "kernelspec": {
      "name": "python3",
      "display_name": "Python 3"
    },
    "language_info": {
      "name": "python"
    },
    "accelerator": "GPU"
  },
  "cells": [
    {
      "cell_type": "markdown",
      "metadata": {
        "id": "view-in-github",
        "colab_type": "text"
      },
      "source": [
        "<a href=\"https://colab.research.google.com/github/alfn051/MachineLearningSubject/blob/main/machineLearning_subject.ipynb\" target=\"_parent\"><img src=\"https://colab.research.google.com/assets/colab-badge.svg\" alt=\"Open In Colab\"/></a>"
      ]
    },
    {
      "cell_type": "markdown",
      "source": [
        "MNIST 데이터셋과 다중 퍼셉트론 분류를 이용한 이미지 분류 시스템"
      ],
      "metadata": {
        "id": "MoIxqrLTzg9a"
      }
    },
    {
      "cell_type": "markdown",
      "source": [
        "데이터셋 준비"
      ],
      "metadata": {
        "id": "msHNseEw0e5o"
      }
    },
    {
      "cell_type": "code",
      "source": [
        "import numpy as np\n",
        "import matplotlib.pyplot as plt\n",
        "import tensorflow as tf\n",
        "from tensorflow import keras\n",
        "\n",
        "# MNIST 데이터셋 로드\n",
        "mnist = keras.datasets.mnist\n",
        "(X_train, y_train), (X_test, y_test) = mnist.load_data()\n",
        "\n",
        "# 이미지 정규화\n",
        "X_train = X_train / 255.0\n",
        "X_test = X_test / 255.0"
      ],
      "metadata": {
        "id": "Lvwt-CNHzpsN"
      },
      "execution_count": 39,
      "outputs": []
    },
    {
      "cell_type": "markdown",
      "source": [
        "모델 구성 및 훈련"
      ],
      "metadata": {
        "id": "WWcyXu2P1BxN"
      }
    },
    {
      "cell_type": "code",
      "source": [
        "model = keras.Sequential([\n",
        "    keras.layers.Flatten(input_shape=(28, 28)),\n",
        "    keras.layers.Dense(128, activation='relu'),\n",
        "    keras.layers.Dense(10, activation='softmax')\n",
        "])\n",
        "\n",
        "model.compile(optimizer='adam',\n",
        "              loss='sparse_categorical_crossentropy',\n",
        "              metrics=['accuracy'])\n",
        "\n",
        "model.fit(X_train, y_train, epochs=5)\n"
      ],
      "metadata": {
        "colab": {
          "base_uri": "https://localhost:8080/"
        },
        "id": "iOnj_Kiz1F3f",
        "outputId": "3ba86026-f4fc-48a9-bb2d-fddb45a636a1"
      },
      "execution_count": 34,
      "outputs": [
        {
          "output_type": "stream",
          "name": "stdout",
          "text": [
            "Epoch 1/5\n",
            "1875/1875 [==============================] - 5s 2ms/step - loss: 0.2623 - accuracy: 0.9241\n",
            "Epoch 2/5\n",
            "1875/1875 [==============================] - 5s 3ms/step - loss: 0.1158 - accuracy: 0.9660\n",
            "Epoch 3/5\n",
            "1875/1875 [==============================] - 5s 2ms/step - loss: 0.0790 - accuracy: 0.9757\n",
            "Epoch 4/5\n",
            "1875/1875 [==============================] - 5s 2ms/step - loss: 0.0597 - accuracy: 0.9820\n",
            "Epoch 5/5\n",
            "1875/1875 [==============================] - 5s 3ms/step - loss: 0.0454 - accuracy: 0.9861\n"
          ]
        },
        {
          "output_type": "execute_result",
          "data": {
            "text/plain": [
              "<keras.callbacks.History at 0x7ff4269bb100>"
            ]
          },
          "metadata": {},
          "execution_count": 34
        }
      ]
    },
    {
      "cell_type": "markdown",
      "source": [
        "테스트 세트 정확도 평가"
      ],
      "metadata": {
        "id": "o2-Q3AZa1lVy"
      }
    },
    {
      "cell_type": "code",
      "source": [
        "_, accuracy = model.evaluate(X_test, y_test)\n",
        "print(f'정확도: {accuracy}')"
      ],
      "metadata": {
        "colab": {
          "base_uri": "https://localhost:8080/"
        },
        "id": "Q4Nb86pO1nf5",
        "outputId": "7af834c6-fa68-41b4-89ea-e38f79d53461"
      },
      "execution_count": 6,
      "outputs": [
        {
          "output_type": "stream",
          "name": "stdout",
          "text": [
            "313/313 [==============================] - 1s 2ms/step - loss: 0.0815 - accuracy: 0.9748\n",
            "정확도: 0.9747999906539917\n"
          ]
        }
      ]
    },
    {
      "cell_type": "markdown",
      "source": [],
      "metadata": {
        "id": "2F58EoI83a9c"
      }
    },
    {
      "cell_type": "code",
      "source": [
        "index = np.random.randint(0, len(X_test))\n",
        "image = X_test[index]\n",
        "image = np.expand_dims(image, axis=0)\n",
        "prediction = model.predict(image)\n",
        "predicted_label = np.argmax(prediction)\n",
        "\n",
        "plt.imshow(X_test[index], cmap='gray')\n",
        "plt.title(f'Prediction: {predicted_label}')\n",
        "plt.axis('off')\n",
        "plt.show()"
      ],
      "metadata": {
        "colab": {
          "base_uri": "https://localhost:8080/",
          "height": 446
        },
        "id": "-8I8E3xd1x38",
        "outputId": "202622b2-78c5-4676-aefd-c4199141c3a1"
      },
      "execution_count": 7,
      "outputs": [
        {
          "output_type": "stream",
          "name": "stdout",
          "text": [
            "1/1 [==============================] - 0s 82ms/step\n"
          ]
        },
        {
          "output_type": "display_data",
          "data": {
            "text/plain": [
              "<Figure size 640x480 with 1 Axes>"
            ],
            "image/png": "[encoded data removed]"
          },
          "metadata": {}
        }
      ]
    },
    {
      "cell_type": "markdown",
      "source": [
        "# 모델 향상"
      ],
      "metadata": {
        "id": "sU31kheV13j2"
      }
    },
    {
      "cell_type": "markdown",
      "source": [
        "# 신경망 구조 변경"
      ],
      "metadata": {
        "id": "I4-HhhW52D59"
      }
    },
    {
      "cell_type": "markdown",
      "source": [
        "레이어 수와 뉴런의 수를 증가시켜보았다."
      ],
      "metadata": {
        "id": "rKt7LNk-3pzn"
      }
    },
    {
      "cell_type": "code",
      "source": [
        "model_1 = keras.Sequential([\n",
        "    keras.layers.Flatten(input_shape=(28, 28)),\n",
        "    keras.layers.Dense(256, activation='relu'),  # 변경된 뉴런 수\n",
        "    keras.layers.Dense(128, activation='relu'),  # 변경된 뉴런 수\n",
        "    keras.layers.Dense(10, activation='softmax')\n",
        "])\n",
        "\n",
        "model_1.compile(optimizer='adam',\n",
        "              loss='sparse_categorical_crossentropy',\n",
        "              metrics=['accuracy'])\n",
        "\n",
        "model_1.fit(X_train, y_train, epochs=5)"
      ],
      "metadata": {
        "colab": {
          "base_uri": "https://localhost:8080/"
        },
        "id": "aQoO5e5S2RJ2",
        "outputId": "efd9c320-5d4d-4941-cc94-105a310ba425"
      },
      "execution_count": 8,
      "outputs": [
        {
          "output_type": "stream",
          "name": "stdout",
          "text": [
            "Epoch 1/5\n",
            "1875/1875 [==============================] - 7s 3ms/step - loss: 0.2086 - accuracy: 0.9370\n",
            "Epoch 2/5\n",
            "1875/1875 [==============================] - 5s 3ms/step - loss: 0.0890 - accuracy: 0.9729\n",
            "Epoch 3/5\n",
            "1875/1875 [==============================] - 5s 3ms/step - loss: 0.0583 - accuracy: 0.9813\n",
            "Epoch 4/5\n",
            "1875/1875 [==============================] - 5s 3ms/step - loss: 0.0452 - accuracy: 0.9850\n",
            "Epoch 5/5\n",
            "1875/1875 [==============================] - 5s 3ms/step - loss: 0.0340 - accuracy: 0.9891\n"
          ]
        },
        {
          "output_type": "execute_result",
          "data": {
            "text/plain": [
              "<keras.callbacks.History at 0x7ff5d3e1b730>"
            ]
          },
          "metadata": {},
          "execution_count": 8
        }
      ]
    },
    {
      "cell_type": "markdown",
      "source": [
        "테스트 세트 정확도 평가"
      ],
      "metadata": {
        "id": "Sbgp8vya23tv"
      }
    },
    {
      "cell_type": "code",
      "source": [
        "_, accuracy = model_1.evaluate(X_test, y_test)\n",
        "print(f'정확도: {accuracy}')"
      ],
      "metadata": {
        "colab": {
          "base_uri": "https://localhost:8080/"
        },
        "id": "qclRITaB27QD",
        "outputId": "96f03848-64c9-4ff1-f01a-5c72bad9bc22"
      },
      "execution_count": 9,
      "outputs": [
        {
          "output_type": "stream",
          "name": "stdout",
          "text": [
            "313/313 [==============================] - 1s 3ms/step - loss: 0.0824 - accuracy: 0.9772\n",
            "정확도: 0.9771999716758728\n"
          ]
        }
      ]
    },
    {
      "cell_type": "markdown",
      "source": [
        "기존모델보다 정확도 0.2399% 증가하였다"
      ],
      "metadata": {
        "id": "XjuR7A4p3caH"
      }
    },
    {
      "cell_type": "markdown",
      "source": [
        "# 활성화 함수 변경"
      ],
      "metadata": {
        "id": "LrlPKtYZ3i3N"
      }
    },
    {
      "cell_type": "markdown",
      "source": [
        "은닉층의 활성화 함수로  'LeakyReLU'를 사용해 보았다."
      ],
      "metadata": {
        "id": "pUfD2tYR4ARL"
      }
    },
    {
      "cell_type": "code",
      "source": [
        "model_2 = keras.Sequential([\n",
        "    keras.layers.Flatten(input_shape=(28, 28)),\n",
        "    keras.layers.Dense(128, activation=tf.keras.layers.LeakyReLU(alpha=0.1)),  # 변경된 활성화 함수\n",
        "    keras.layers.Dense(10, activation='softmax')\n",
        "])\n",
        "\n",
        "model_2.compile(optimizer='adam',\n",
        "              loss='sparse_categorical_crossentropy',\n",
        "              metrics=['accuracy'])\n",
        "\n",
        "model_2.fit(X_train, y_train, epochs=5)"
      ],
      "metadata": {
        "colab": {
          "base_uri": "https://localhost:8080/"
        },
        "id": "XzdXuEsl31DZ",
        "outputId": "d137d9d7-a7da-4726-9e9a-a854b2020a3a"
      },
      "execution_count": 10,
      "outputs": [
        {
          "output_type": "stream",
          "name": "stdout",
          "text": [
            "Epoch 1/5\n",
            "1875/1875 [==============================] - 5s 2ms/step - loss: 0.2672 - accuracy: 0.9235\n",
            "Epoch 2/5\n",
            "1875/1875 [==============================] - 5s 3ms/step - loss: 0.1227 - accuracy: 0.9632\n",
            "Epoch 3/5\n",
            "1875/1875 [==============================] - 5s 2ms/step - loss: 0.0858 - accuracy: 0.9738\n",
            "Epoch 4/5\n",
            "1875/1875 [==============================] - 5s 3ms/step - loss: 0.0656 - accuracy: 0.9799\n",
            "Epoch 5/5\n",
            "1875/1875 [==============================] - 5s 3ms/step - loss: 0.0500 - accuracy: 0.9850\n"
          ]
        },
        {
          "output_type": "execute_result",
          "data": {
            "text/plain": [
              "<keras.callbacks.History at 0x7ff5d2542e90>"
            ]
          },
          "metadata": {},
          "execution_count": 10
        }
      ]
    },
    {
      "cell_type": "markdown",
      "source": [
        "테스트 세트 정확도 평가"
      ],
      "metadata": {
        "id": "PSvV34Et4Xr0"
      }
    },
    {
      "cell_type": "code",
      "source": [
        "_, accuracy = model_2.evaluate(X_test, y_test)\n",
        "print(f'정확도: {accuracy}')"
      ],
      "metadata": {
        "colab": {
          "base_uri": "https://localhost:8080/"
        },
        "id": "-rpmArPL4Zsg",
        "outputId": "c9989489-eb90-4fa2-c2f6-befc29e292d4"
      },
      "execution_count": 11,
      "outputs": [
        {
          "output_type": "stream",
          "name": "stdout",
          "text": [
            "313/313 [==============================] - 1s 2ms/step - loss: 0.0936 - accuracy: 0.9704\n",
            "정확도: 0.9703999757766724\n"
          ]
        }
      ]
    },
    {
      "cell_type": "markdown",
      "source": [
        "기존 모델보다 정확도 0.44% 감소하였다."
      ],
      "metadata": {
        "id": "AAepheIj4ikZ"
      }
    },
    {
      "cell_type": "markdown",
      "source": [
        "# 정규화와 드롭아웃 추가"
      ],
      "metadata": {
        "id": "MLe0hds85vxT"
      }
    },
    {
      "cell_type": "markdown",
      "source": [
        "L2정규화와 드롭아웃을 추가한다."
      ],
      "metadata": {
        "id": "QARreAGg5ywZ"
      }
    },
    {
      "cell_type": "code",
      "source": [
        "model_3 = keras.Sequential([\n",
        "    keras.layers.Flatten(input_shape=(28, 28)),\n",
        "    keras.layers.Dense(128, activation='relu'),\n",
        "    keras.layers.Dense(10, activation='softmax')\n",
        "])\n",
        "\n",
        "# L2 정규화와 드롭아웃 추가\n",
        "model_3.add(keras.layers.Dense(128, activation='relu', kernel_regularizer=keras.regularizers.l2(0.001)))\n",
        "model_3.add(keras.layers.Dropout(0.5))\n",
        "\n",
        "model_3.compile(optimizer='adam',\n",
        "              loss='sparse_categorical_crossentropy',\n",
        "              metrics=['accuracy'])\n",
        "\n",
        "model_3.fit(X_train, y_train, epochs=5)"
      ],
      "metadata": {
        "colab": {
          "base_uri": "https://localhost:8080/"
        },
        "id": "3_9SJDA25-XK",
        "outputId": "15e65126-c940-49f4-9b4c-95298b34fb0f"
      },
      "execution_count": 30,
      "outputs": [
        {
          "output_type": "stream",
          "name": "stdout",
          "text": [
            "Epoch 1/5\n",
            "1875/1875 [==============================] - 7s 3ms/step - loss: 5.0183 - accuracy: 0.0677\n",
            "Epoch 2/5\n",
            "1875/1875 [==============================] - 5s 3ms/step - loss: 4.8563 - accuracy: 0.0135\n",
            "Epoch 3/5\n",
            "1875/1875 [==============================] - 6s 3ms/step - loss: 4.8543 - accuracy: 0.0090\n",
            "Epoch 4/5\n",
            "1875/1875 [==============================] - 5s 3ms/step - loss: 4.8535 - accuracy: 0.0088\n",
            "Epoch 5/5\n",
            "1875/1875 [==============================] - 6s 3ms/step - loss: 4.8529 - accuracy: 0.0091\n"
          ]
        },
        {
          "output_type": "execute_result",
          "data": {
            "text/plain": [
              "<keras.callbacks.History at 0x7ff5d0236da0>"
            ]
          },
          "metadata": {},
          "execution_count": 30
        }
      ]
    },
    {
      "cell_type": "markdown",
      "source": [
        "테스트 세트 정확도 평가"
      ],
      "metadata": {
        "id": "w_7SNrxd6esj"
      }
    },
    {
      "cell_type": "code",
      "source": [
        "_, accuracy = model_3.evaluate(X_test, y_test)\n",
        "print(f'정확도: {accuracy}')"
      ],
      "metadata": {
        "colab": {
          "base_uri": "https://localhost:8080/"
        },
        "outputId": "36204a6e-dd5b-421d-bd8f-af2bd6bd9cd4",
        "id": "ppq0dHNG6esj"
      },
      "execution_count": 31,
      "outputs": [
        {
          "output_type": "stream",
          "name": "stdout",
          "text": [
            "313/313 [==============================] - 1s 2ms/step - loss: 4.8527 - accuracy: 3.0000e-04\n",
            "정확도: 0.0003000000142492354\n"
          ]
        }
      ]
    },
    {
      "cell_type": "markdown",
      "source": [
        "학습이 제대로 되지 않았음"
      ],
      "metadata": {
        "id": "OrxiKpu-EbEm"
      }
    },
    {
      "cell_type": "markdown",
      "source": [
        "# 옵티마이저 변경"
      ],
      "metadata": {
        "id": "CCT_BzIIEdLn"
      }
    },
    {
      "cell_type": "markdown",
      "source": [
        "RMSprop 옵티마이저를 사용"
      ],
      "metadata": {
        "id": "RPQN37YoEk5e"
      }
    },
    {
      "cell_type": "code",
      "source": [
        "model_4 = keras.Sequential([\n",
        "    keras.layers.Flatten(input_shape=(28, 28)),\n",
        "    keras.layers.Dense(128, activation='relu'),\n",
        "    keras.layers.Dense(10, activation='softmax')\n",
        "])\n",
        "\n",
        "# 옵티마이저 변경\n",
        "optimizer = keras.optimizers.RMSprop(learning_rate=0.001)\n",
        "\n",
        "model_4.compile(optimizer=optimizer,\n",
        "              loss='sparse_categorical_crossentropy',\n",
        "              metrics=['accuracy'])\n",
        "\n",
        "model_4.fit(X_train, y_train, epochs=5)"
      ],
      "metadata": {
        "colab": {
          "base_uri": "https://localhost:8080/"
        },
        "id": "jkwt9pT6F5kc",
        "outputId": "4b422e37-f746-422e-92b9-3c8626739a0d"
      },
      "execution_count": 47,
      "outputs": [
        {
          "output_type": "stream",
          "name": "stdout",
          "text": [
            "Epoch 1/5\n",
            "1875/1875 [==============================] - 5s 2ms/step - loss: 0.2562 - accuracy: 0.9265\n",
            "Epoch 2/5\n",
            "1875/1875 [==============================] - 5s 2ms/step - loss: 0.1183 - accuracy: 0.9653\n",
            "Epoch 3/5\n",
            "1875/1875 [==============================] - 5s 3ms/step - loss: 0.0848 - accuracy: 0.9748\n",
            "Epoch 4/5\n",
            "1875/1875 [==============================] - 4s 2ms/step - loss: 0.0669 - accuracy: 0.9803\n",
            "Epoch 5/5\n",
            "1875/1875 [==============================] - 5s 3ms/step - loss: 0.0559 - accuracy: 0.9839\n"
          ]
        },
        {
          "output_type": "execute_result",
          "data": {
            "text/plain": [
              "<keras.callbacks.History at 0x7ff5d805fa60>"
            ]
          },
          "metadata": {},
          "execution_count": 47
        }
      ]
    },
    {
      "cell_type": "markdown",
      "source": [
        "테스트 세트 정확도 평가"
      ],
      "metadata": {
        "id": "y5btEFkkJn15"
      }
    },
    {
      "cell_type": "code",
      "source": [
        "_, accuracy = model_4.evaluate(X_test, y_test)\n",
        "print(f'정확도: {accuracy}')"
      ],
      "metadata": {
        "colab": {
          "base_uri": "https://localhost:8080/"
        },
        "id": "Z2W_JuE1Jqoc",
        "outputId": "d2af599d-ea0e-412d-d968-f37f330fe24c"
      },
      "execution_count": 48,
      "outputs": [
        {
          "output_type": "stream",
          "name": "stdout",
          "text": [
            "313/313 [==============================] - 1s 2ms/step - loss: 0.0816 - accuracy: 0.9774\n",
            "정확도: 0.977400004863739\n"
          ]
        }
      ]
    },
    {
      "cell_type": "code",
      "source": [],
      "metadata": {
        "id": "NzTdJX5CKGo4"
      },
      "execution_count": null,
      "outputs": []
    },
    {
      "cell_type": "markdown",
      "source": [
        "기존 모델보다 정확도 0.26% 증가하였다."
      ],
      "metadata": {
        "id": "wCrmW_GSJztQ"
      }
    }
  ]
}